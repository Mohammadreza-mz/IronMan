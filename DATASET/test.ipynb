{
 "metadata": {
  "language_info": {
   "codemirror_mode": {
    "name": "ipython",
    "version": 3
   },
   "file_extension": ".py",
   "mimetype": "text/x-python",
   "name": "python",
   "nbconvert_exporter": "python",
   "pygments_lexer": "ipython3",
   "version": "3.6.8"
  },
  "orig_nbformat": 2,
  "kernelspec": {
   "name": "python368jvsc74a57bd0ec27341bc18d47a73f14cbe03fe477c643fa0217ee455f17040e146541689558",
   "display_name": "Python 3.6.8 64-bit ('pandas_env': conda)"
  }
 },
 "nbformat": 4,
 "nbformat_minor": 2,
 "cells": [
  {
   "cell_type": "code",
   "execution_count": 1,
   "metadata": {},
   "outputs": [],
   "source": [
    "import json"
   ]
  },
  {
   "cell_type": "code",
   "execution_count": 16,
   "metadata": {},
   "outputs": [],
   "source": [
    "case_index=[3,4,5,6,7,13,14,15,16,17,18,19,20,21,22,23,24,26,27,29,30]+[i for i in range(31,44)]+[i for i in range(47,60)]"
   ]
  },
  {
   "cell_type": "code",
   "execution_count": 17,
   "metadata": {},
   "outputs": [],
   "source": [
    "for i in case_index:\n",
    "    file_name='case_'+str(i)+'/case_'+str(i)+'_all_data'\n",
    "    # read file\n",
    "    f = open(file_name + '.json', 'r')\n",
    "    d = json.load(f)\n",
    "    f.close()\n",
    "\n",
    "    # remove directives\n",
    "    for item in d:\n",
    "        d[item].pop('directives', None)\n",
    "\n",
    "    # save file without directives\n",
    "    f = open(file_name + '.json', 'w')\n",
    "    json.dump(d, f)\n",
    "    f.close()\n"
   ]
  },
  {
   "cell_type": "code",
   "execution_count": 2,
   "metadata": {},
   "outputs": [],
   "source": [
    "file_name='case_3/case_3_all_data'\n",
    "f = open(file_name + '.json', 'r')\n",
    "d = json.load(f)\n",
    "f.close()"
   ]
  },
  {
   "cell_type": "code",
   "execution_count": 10,
   "metadata": {},
   "outputs": [],
   "source": [
    "for item in d:\n",
    "    d[item].pop('directives', None)"
   ]
  },
  {
   "cell_type": "code",
   "execution_count": 12,
   "metadata": {},
   "outputs": [
    {
     "output_type": "stream",
     "name": "stdout",
     "text": [
      "{'SLICE': 492, 'LUT': 1537, 'LUT_op': [23, 24, 29, 38, 40, 41, 48, 50, 52, 55, 56, 57, 59, 60, 62, 64, 68, 72, 73, 75, 77, 80, 84, 88, 89, 94, 97, 99], 'DSP': 5, 'FF': 388, 'CP': 8.661}\n"
     ]
    }
   ],
   "source": [
    "print(d['solution_92'])"
   ]
  },
  {
   "cell_type": "code",
   "execution_count": null,
   "metadata": {},
   "outputs": [],
   "source": [
    "f = open(fname + '.json', 'w')\n",
    "json.dump(G_dict, f)\n",
    "f.close()"
   ]
  },
  {
   "cell_type": "code",
   "execution_count": 19,
   "metadata": {},
   "outputs": [],
   "source": [
    "import pandas as pd\n",
    "case=pd.read_json(r'case_3'+'/case_3_all_data.json')\n",
    "LUT_number=case.iloc[1]\n",
    "DSP_number=case.iloc[3]\n",
    "CP_number=case.iloc[5]\n",
    "LUT_op=case.iloc[2]"
   ]
  },
  {
   "cell_type": "code",
   "execution_count": null,
   "metadata": {},
   "outputs": [],
   "source": []
  }
 ]
}